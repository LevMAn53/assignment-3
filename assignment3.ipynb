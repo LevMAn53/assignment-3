{
 "cells": [
  {
   "cell_type": "code",
   "execution_count": 147,
   "id": "61d88fe6-3f83-4487-9c6e-a39d24434b03",
   "metadata": {},
   "outputs": [
    {
     "name": "stdout",
     "output_type": "stream",
     "text": [
      "[1, 4, 9, 16]\n"
     ]
    }
   ],
   "source": [
    "#завдання 1\n",
    "\n",
    "\n",
    "def multiply(list_):\n",
    "    new_list = []\n",
    "    for item in list_:\n",
    "        new_list.append(item**2)\n",
    "    return new_list\n",
    "\n",
    "\n",
    "print(multiply([1,2,3,4,]))\n",
    "    "
   ]
  },
  {
   "cell_type": "code",
   "execution_count": 133,
   "id": "63a27f81-276f-47a2-8494-7ec73d72c614",
   "metadata": {},
   "outputs": [
    {
     "data": {
      "text/plain": [
       "[1,\n",
       " 4,\n",
       " 9,\n",
       " 16,\n",
       " 25,\n",
       " 36,\n",
       " 49,\n",
       " 64,\n",
       " 81,\n",
       " 100,\n",
       " 121,\n",
       " 144,\n",
       " 169,\n",
       " 196,\n",
       " 225,\n",
       " 256,\n",
       " 289,\n",
       " 324,\n",
       " 361,\n",
       " 400]"
      ]
     },
     "execution_count": 133,
     "metadata": {},
     "output_type": "execute_result"
    }
   ],
   "source": [
    "#завдання2\n",
    "\n",
    "numbers = list(range(1, N + 1))\n",
    "\n",
    "def multiply(item):\n",
    "    return item **2\n",
    "\n",
    "list(map(multiply, numbers))"
   ]
  },
  {
   "cell_type": "code",
   "execution_count": 157,
   "id": "602d65f2-6aa8-4cdf-a9c0-3c9ef761e6c2",
   "metadata": {},
   "outputs": [
    {
     "name": "stdout",
     "output_type": "stream",
     "text": [
      "[1, 4, 9, 16, 25, 36, 49, 64, 81, 100]\n"
     ]
    }
   ],
   "source": [
    "#завдання3\n",
    "\n",
    "numbers = list(range(1, N + 1))\n",
    "\n",
    "new_list = [item**2 for item in numbers]\n"
   ]
  },
  {
   "cell_type": "code",
   "execution_count": 131,
   "id": "f9749bf6-622d-44a4-86df-191501dbffe7",
   "metadata": {},
   "outputs": [
    {
     "name": "stdout",
     "output_type": "stream",
     "text": [
      "[1, 4, 9, 16]\n"
     ]
    }
   ],
   "source": [
    "#завдання4\n",
    "\n",
    "def find_squares(N):\n",
    "    numbers = list(range(1, N+1))\n",
    "    def is_square(num):\n",
    "        return int(num**0.5) ** 2 == num\n",
    "    return [num for num in numbers if is_square(num)]\n"
   ]
  }
 ],
 "metadata": {
  "kernelspec": {
   "display_name": "Python 3 (ipykernel)",
   "language": "python",
   "name": "python3"
  },
  "language_info": {
   "codemirror_mode": {
    "name": "ipython",
    "version": 3
   },
   "file_extension": ".py",
   "mimetype": "text/x-python",
   "name": "python",
   "nbconvert_exporter": "python",
   "pygments_lexer": "ipython3",
   "version": "3.12.4"
  }
 },
 "nbformat": 4,
 "nbformat_minor": 5
}
